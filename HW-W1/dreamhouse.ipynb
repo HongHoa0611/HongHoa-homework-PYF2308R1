{
 "cells": [
  {
   "cell_type": "code",
   "execution_count": 4,
   "id": "09885169-6ffa-4015-b529-08a74ed138b5",
   "metadata": {},
   "outputs": [
    {
     "ename": "AttributeError",
     "evalue": "'Turtle' object has no attribute 'bgcolor'",
     "output_type": "error",
     "traceback": [
      "\u001b[1;31m---------------------------------------------------------------------------\u001b[0m",
      "\u001b[1;31mAttributeError\u001b[0m                            Traceback (most recent call last)",
      "Cell \u001b[1;32mIn[4], line 3\u001b[0m\n\u001b[0;32m      1\u001b[0m \u001b[38;5;28;01mimport\u001b[39;00m \u001b[38;5;21;01mturtle\u001b[39;00m\n\u001b[0;32m      2\u001b[0m t\u001b[38;5;241m=\u001b[39mturtle\u001b[38;5;241m.\u001b[39mTurtle()\n\u001b[1;32m----> 3\u001b[0m \u001b[43mt\u001b[49m\u001b[38;5;241;43m.\u001b[39;49m\u001b[43mbgcolor\u001b[49m(\u001b[38;5;124m\"\u001b[39m\u001b[38;5;124mturquoise\u001b[39m\u001b[38;5;124m\"\u001b[39m)\n\u001b[0;32m      4\u001b[0m t\u001b[38;5;241m.\u001b[39mgoto(\u001b[38;5;241m200\u001b[39m,\u001b[38;5;241m200\u001b[39m)\n\u001b[0;32m      5\u001b[0m t\u001b[38;5;241m.\u001b[39mcircle(\u001b[38;5;241m50\u001b[39m)\n",
      "\u001b[1;31mAttributeError\u001b[0m: 'Turtle' object has no attribute 'bgcolor'"
     ]
    }
   ],
   "source": [
    "import turtle\n",
    "t=turtle.Turtle()\n",
    "t.backgrocolor(\"turquoise\")\n",
    "t.goto(200,200)\n",
    "t.circle(50)\n",
    "t.circlecolor(yellow)\n",
    "t.pensize(5)\n",
    "t.pencolor(black)\n",
    "t.forward(100)\n",
    "done()"
   ]
  },
  {
   "cell_type": "code",
   "execution_count": null,
   "id": "77cd5c4a-5cdf-499b-bb3a-8606f2f44fe7",
   "metadata": {},
   "outputs": [],
   "source": []
  },
  {
   "cell_type": "code",
   "execution_count": null,
   "id": "4d5e810b-1883-4bad-9dfa-1e30dda0e4fc",
   "metadata": {},
   "outputs": [],
   "source": []
  }
 ],
 "metadata": {
  "kernelspec": {
   "display_name": "Python 3 (ipykernel)",
   "language": "python",
   "name": "python3"
  },
  "language_info": {
   "codemirror_mode": {
    "name": "ipython",
    "version": 3
   },
   "file_extension": ".py",
   "mimetype": "text/x-python",
   "name": "python",
   "nbconvert_exporter": "python",
   "pygments_lexer": "ipython3",
   "version": "3.11.5"
  }
 },
 "nbformat": 4,
 "nbformat_minor": 5
}
