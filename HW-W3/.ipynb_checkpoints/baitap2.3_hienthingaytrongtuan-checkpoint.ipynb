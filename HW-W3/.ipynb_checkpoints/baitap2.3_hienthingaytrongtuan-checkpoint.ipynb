{
 "cells": [
  {
   "cell_type": "code",
   "execution_count": 1,
   "id": "c62d07fa-e5fe-48de-8b87-7588fedf3cf0",
   "metadata": {},
   "outputs": [
    {
     "name": "stdin",
     "output_type": "stream",
     "text": [
      "nhập một số bất kì từ 1 đến 7: 5\n"
     ]
    },
    {
     "name": "stdout",
     "output_type": "stream",
     "text": [
      "Friday\n"
     ]
    }
   ],
   "source": [
    "day = int(input(\"nhập một số bất kì từ 1 đến 7:\"))\n",
    "if day<1 or day>7:\n",
    "    print('Invalid')\n",
    "else:\n",
    "    if day == 1: print('Monday')\n",
    "    if day == 2: print('Tuesday')\n",
    "    if day == 3: print('Wednesday')\n",
    "    if day == 4: print('Thusday')\n",
    "    if day == 5: print('Friday')\n",
    "    if day == 6: print('Satuday')\n",
    "    if day == 7: print('Sunday')"
   ]
  },
  {
   "cell_type": "code",
   "execution_count": null,
   "id": "103ffe3e-8c69-4a5c-a05c-0573145f951b",
   "metadata": {},
   "outputs": [],
   "source": []
  }
 ],
 "metadata": {
  "kernelspec": {
   "display_name": "Python 3 (ipykernel)",
   "language": "python",
   "name": "python3"
  },
  "language_info": {
   "codemirror_mode": {
    "name": "ipython",
    "version": 3
   },
   "file_extension": ".py",
   "mimetype": "text/x-python",
   "name": "python",
   "nbconvert_exporter": "python",
   "pygments_lexer": "ipython3",
   "version": "3.11.5"
  }
 },
 "nbformat": 4,
 "nbformat_minor": 5
}
