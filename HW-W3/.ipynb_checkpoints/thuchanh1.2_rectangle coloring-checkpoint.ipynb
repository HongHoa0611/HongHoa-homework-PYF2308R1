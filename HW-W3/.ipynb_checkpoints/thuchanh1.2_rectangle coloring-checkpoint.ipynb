{
 "cells": [
  {
   "cell_type": "code",
   "execution_count": 1,
   "id": "582414c6-121c-4b1f-806b-9cf81452a856",
   "metadata": {},
   "outputs": [
    {
     "name": "stdin",
     "output_type": "stream",
     "text": [
      "Nhập màu hoặc mã màu:  red\n",
      "Nhập chiều dài hình chữ nhật:  10\n",
      "Nhập chiều rộng hình chữ nhật:  7\n"
     ]
    },
    {
     "name": "stdout",
     "output_type": "stream",
     "text": [
      "Chu vi của hình chữ nhật (dài = 10.0, rộng = 7.0) là 34.0\n",
      "Diện tích của hình chữ nhật (dài = 10.0, rộng = 7.0) là 70.0\n"
     ]
    }
   ],
   "source": [
    "import turtle\n",
    "color = input(\"Nhập màu hoặc mã màu: \")\n",
    "w = float(input(\"Nhập chiều dài hình chữ nhật: \"))\n",
    "h = float(input(\"Nhập chiều rộng hình chữ nhật: \"))\n",
    "t = turtle.Turtle()\n",
    "t.hideturtle()\n",
    "t.color(color)\n",
    "t.begin_fill()\n",
    "t.forward(w)\n",
    "t.right(90)\n",
    "t.forward(h)\n",
    "t.right(90)\n",
    "t.forward(w)\n",
    "t.right(90)\n",
    "t.forward(h)\n",
    "t.end_fill()\n",
    "turtle.done()\n",
    "c = 2 * (w + h)\n",
    "s = w * h\n",
    "print(\"Chu vi của hình chữ nhật (dài = {w}, rộng = {h}) là {c}\".format(w=w, h=h, c=c))\n",
    "print(\"Diện tích của hình chữ nhật (dài = {w}, rộng = {h}) là {s}\".format(w=w, h=h, s=s))"
   ]
  },
  {
   "cell_type": "code",
   "execution_count": null,
   "id": "c2c2c73a-c625-409a-a21e-0c9b7b1c45ec",
   "metadata": {},
   "outputs": [],
   "source": []
  },
  {
   "cell_type": "code",
   "execution_count": null,
   "id": "35791161-fac0-40d1-90d5-3671c9c03a62",
   "metadata": {},
   "outputs": [],
   "source": []
  }
 ],
 "metadata": {
  "kernelspec": {
   "display_name": "Python 3 (ipykernel)",
   "language": "python",
   "name": "python3"
  },
  "language_info": {
   "codemirror_mode": {
    "name": "ipython",
    "version": 3
   },
   "file_extension": ".py",
   "mimetype": "text/x-python",
   "name": "python",
   "nbconvert_exporter": "python",
   "pygments_lexer": "ipython3",
   "version": "3.11.5"
  }
 },
 "nbformat": 4,
 "nbformat_minor": 5
}
