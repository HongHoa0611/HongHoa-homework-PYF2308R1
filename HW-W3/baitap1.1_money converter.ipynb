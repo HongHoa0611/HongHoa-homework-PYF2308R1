{
 "cells": [
  {
   "cell_type": "code",
   "execution_count": 2,
   "id": "a8658e03-ee84-4478-8c67-6ee5f395c34c",
   "metadata": {},
   "outputs": [
    {
     "name": "stdin",
     "output_type": "stream",
     "text": [
      "nhập số $ cần đổi :  438365\n"
     ]
    },
    {
     "name": "stdout",
     "output_type": "stream",
     "text": [
      "438365$ đổi được 10625967600 VND\n"
     ]
    }
   ],
   "source": [
    "usdolar = int(input(\"nhập số $ cần đổi : \"))\n",
    "rate = 24240\n",
    "vnD = usdolar * rate\n",
    "print(f\"{usdolar}$ đổi được {vnD} VND\")"
   ]
  }
 ],
 "metadata": {
  "kernelspec": {
   "display_name": "Python 3 (ipykernel)",
   "language": "python",
   "name": "python3"
  },
  "language_info": {
   "codemirror_mode": {
    "name": "ipython",
    "version": 3
   },
   "file_extension": ".py",
   "mimetype": "text/x-python",
   "name": "python",
   "nbconvert_exporter": "python",
   "pygments_lexer": "ipython3",
   "version": "3.11.5"
  }
 },
 "nbformat": 4,
 "nbformat_minor": 5
}
