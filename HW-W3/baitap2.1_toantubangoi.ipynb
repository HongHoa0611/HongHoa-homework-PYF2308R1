{
 "cells": [
  {
   "cell_type": "code",
   "execution_count": 2,
   "id": "f0606495-8295-40a4-8367-ddfd5878030d",
   "metadata": {},
   "outputs": [
    {
     "name": "stdin",
     "output_type": "stream",
     "text": [
      "nhập số nguyên bất kì:  435\n"
     ]
    },
    {
     "name": "stdout",
     "output_type": "stream",
     "text": [
      "Odd\n"
     ]
    }
   ],
   "source": [
    "num_check = int(input(\"nhập số nguyên bất kì: \"))\n",
    "\n",
    "# USING TERNARY OPERATOR\n",
    "msg = \"Even\" if num_check %2 == 0 else \"Odd\"\n",
    "print(msg)"
   ]
  },
  {
   "cell_type": "code",
   "execution_count": 8,
   "id": "84157aa1-6231-48b4-8571-32b7b018a379",
   "metadata": {},
   "outputs": [
    {
     "name": "stdin",
     "output_type": "stream",
     "text": [
      "nhập số nguyên bất kì:  4\n"
     ]
    },
    {
     "name": "stdout",
     "output_type": "stream",
     "text": [
      "4is even.\n"
     ]
    }
   ],
   "source": [
    "number = int(input(\"nhập số nguyên bất kì: \"))\n",
    "# USING USUAL IF-ELSE\n",
    "if (number%2 ==0):\n",
    "   print (str(number) + \"is even.\", sep=' ')\n",
    "else:\n",
    "   print(f\"{number} is odd.\")"
   ]
  }
 ],
 "metadata": {
  "kernelspec": {
   "display_name": "Python 3 (ipykernel)",
   "language": "python",
   "name": "python3"
  },
  "language_info": {
   "codemirror_mode": {
    "name": "ipython",
    "version": 3
   },
   "file_extension": ".py",
   "mimetype": "text/x-python",
   "name": "python",
   "nbconvert_exporter": "python",
   "pygments_lexer": "ipython3",
   "version": "3.11.5"
  }
 },
 "nbformat": 4,
 "nbformat_minor": 5
}
