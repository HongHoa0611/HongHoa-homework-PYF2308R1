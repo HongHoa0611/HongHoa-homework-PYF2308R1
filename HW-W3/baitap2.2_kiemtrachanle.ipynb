{
 "cells": [
  {
   "cell_type": "code",
   "execution_count": 1,
   "id": "e3b04984-cb92-479c-a32f-aece8925c246",
   "metadata": {},
   "outputs": [
    {
     "name": "stdin",
     "output_type": "stream",
     "text": [
      "nhập vào số tự nhiên bất kì:  453\n"
     ]
    },
    {
     "name": "stdout",
     "output_type": "stream",
     "text": [
      "số lẻ\n"
     ]
    }
   ],
   "source": [
    "num = float(input(\"nhập vào số tự nhiên bất kì: \"))\n",
    "\n",
    "if num % 2 == 0:\n",
    "    print('số chẵn')\n",
    "elif num % 2 == 1:\n",
    "    print('số lẻ')\n",
    "else:\n",
    "    print('không phải số tự nhiên')"
   ]
  }
 ],
 "metadata": {
  "kernelspec": {
   "display_name": "Python 3 (ipykernel)",
   "language": "python",
   "name": "python3"
  },
  "language_info": {
   "codemirror_mode": {
    "name": "ipython",
    "version": 3
   },
   "file_extension": ".py",
   "mimetype": "text/x-python",
   "name": "python",
   "nbconvert_exporter": "python",
   "pygments_lexer": "ipython3",
   "version": "3.11.5"
  }
 },
 "nbformat": 4,
 "nbformat_minor": 5
}
