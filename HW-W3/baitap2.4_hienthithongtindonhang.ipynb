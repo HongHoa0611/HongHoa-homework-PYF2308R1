{
 "cells": [
  {
   "cell_type": "code",
   "execution_count": 2,
   "id": "de80ada6-e569-4ca2-b9c2-29d88c18d7d7",
   "metadata": {},
   "outputs": [
    {
     "name": "stdin",
     "output_type": "stream",
     "text": [
      "nhập số tiền thanh toán ($): 4534\n"
     ]
    },
    {
     "name": "stdout",
     "output_type": "stream",
     "text": [
      "tổng số tiền thanh toán là 4519.0 $\n"
     ]
    }
   ],
   "source": [
    "paid = float(input(\"nhập số tiền thanh toán ($):\"))\n",
    "discount=0\n",
    "#xác định số tiền giảm giá\n",
    "if paid>75:\n",
    "    discount = 15\n",
    "elif paid>100:\n",
    "    discount = 25\n",
    "elif paid>150:\n",
    "    discount = 50\n",
    "    \n",
    "paid_after_discount= paid - discount\n",
    "print (f\"tổng số tiền thanh toán là {paid_after_discount} $\")"
   ]
  },
  {
   "cell_type": "code",
   "execution_count": null,
   "id": "0c347bf3-d65a-4f0f-84f7-a31ea9a47189",
   "metadata": {},
   "outputs": [],
   "source": []
  }
 ],
 "metadata": {
  "kernelspec": {
   "display_name": "Python 3 (ipykernel)",
   "language": "python",
   "name": "python3"
  },
  "language_info": {
   "codemirror_mode": {
    "name": "ipython",
    "version": 3
   },
   "file_extension": ".py",
   "mimetype": "text/x-python",
   "name": "python",
   "nbconvert_exporter": "python",
   "pygments_lexer": "ipython3",
   "version": "3.11.5"
  }
 },
 "nbformat": 4,
 "nbformat_minor": 5
}
