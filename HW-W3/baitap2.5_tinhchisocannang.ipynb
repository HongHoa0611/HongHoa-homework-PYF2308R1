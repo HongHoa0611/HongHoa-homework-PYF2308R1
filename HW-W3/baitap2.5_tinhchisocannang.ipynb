{
 "cells": [
  {
   "cell_type": "code",
   "execution_count": 1,
   "id": "149a4053-b7af-441a-a102-c8c99a198862",
   "metadata": {},
   "outputs": [
    {
     "name": "stdin",
     "output_type": "stream",
     "text": [
      "nhập cân nặng kg 54\n",
      "nhập chiều cao (cm) 150\n"
     ]
    },
    {
     "name": "stdout",
     "output_type": "stream",
     "text": [
      "BMI của bạn 24.0 bình thường\n"
     ]
    }
   ],
   "source": [
    "weight = float(input(\"nhập cân nặng kg\"))\n",
    "height = float(input(\"nhập chiều cao (cm)\"))/100\n",
    "BMI=weight/(height**2)\n",
    "if(BMI<16):\n",
    "    print(f\"BMI của bạn {BMI} Gầy cấp độ III\")\n",
    "elif(BMI>=16 and BMI<17): #python có thể viết 16 <= BMI <17 #default có thể viết BMI<17\n",
    "    print(f\"BMI của bạn {BMI} Gầy cấp độ II\")\n",
    "elif(BMI>=17 and BMI<18.5):\n",
    "    print(f\"BMI của bạn {BMI} Gầy cấp độ I\")\n",
    "elif(BMI>=18.5 and BMI<25):\n",
    "    print(f\"BMI của bạn {BMI} bình thường\")\n",
    "elif(BMI>=25 and BMI<30):\n",
    "    print(f\"BMI của bạn {BMI} thừa cân\")\n",
    "elif(BMI>=30 and BMI<35):\n",
    "    print(f\"BMI của bạn {BMI} Béo phì cấp độ I\")\n",
    "elif(BMI>=35 and BMI<40):\n",
    "    print(f\"BMI của bạn {BMI} Béo phì cấp độ II\")\n",
    "else:\n",
    "    print(f\"BMI của bạn {BMI} Béo phì cấp độ III\")"
   ]
  },
  {
   "cell_type": "code",
   "execution_count": null,
   "id": "91d75501-fb6e-4357-8c51-034f46c36c01",
   "metadata": {},
   "outputs": [],
   "source": []
  }
 ],
 "metadata": {
  "kernelspec": {
   "display_name": "Python 3 (ipykernel)",
   "language": "python",
   "name": "python3"
  },
  "language_info": {
   "codemirror_mode": {
    "name": "ipython",
    "version": 3
   },
   "file_extension": ".py",
   "mimetype": "text/x-python",
   "name": "python",
   "nbconvert_exporter": "python",
   "pygments_lexer": "ipython3",
   "version": "3.11.5"
  }
 },
 "nbformat": 4,
 "nbformat_minor": 5
}
