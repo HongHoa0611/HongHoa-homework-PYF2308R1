{
 "cells": [
  {
   "cell_type": "code",
   "execution_count": 4,
   "id": "10d9fc23-c76d-453d-ae15-9b6adfbd62dc",
   "metadata": {},
   "outputs": [
    {
     "name": "stdin",
     "output_type": "stream",
     "text": [
      "Enter the radius:  20\n"
     ]
    },
    {
     "name": "stdout",
     "output_type": "stream",
     "text": [
      "Chu vi của hình tròn có bán kính = 20 là 125.66370614359172\n",
      "Diện tích của hình tròn có bán kính = 20 là 1256.6370614359173\n"
     ]
    }
   ],
   "source": [
    "import turtle\n",
    "import math\n",
    "r = int(input('Enter the radius: '))\n",
    "t = turtle.Turtle()\n",
    "t.hideturtle()\n",
    "t.pensize(1)\n",
    "t.color('red')\n",
    "t.circle(r)\n",
    "turtle.done()\n",
    "\n",
    "c = 2*math.pi*r\n",
    "s = math.pi*r**2\n",
    "\n",
    "\n",
    "print(f\"Chu vi của hình tròn có bán kính = {r} là {c}\")\n",
    "print(\"Diện tích của hình tròn có bán kính = {r} là {s}\".format(r=r, s=s))"
   ]
  }
 ],
 "metadata": {
  "kernelspec": {
   "display_name": "Python 3 (ipykernel)",
   "language": "python",
   "name": "python3"
  },
  "language_info": {
   "codemirror_mode": {
    "name": "ipython",
    "version": 3
   },
   "file_extension": ".py",
   "mimetype": "text/x-python",
   "name": "python",
   "nbconvert_exporter": "python",
   "pygments_lexer": "ipython3",
   "version": "3.11.5"
  }
 },
 "nbformat": 4,
 "nbformat_minor": 5
}
