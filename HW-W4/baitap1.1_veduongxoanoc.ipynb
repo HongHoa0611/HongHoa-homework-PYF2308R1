{
 "cells": [
  {
   "cell_type": "code",
   "execution_count": 1,
   "id": "e37a6093-e0dd-4afd-8354-cf231133455c",
   "metadata": {},
   "outputs": [],
   "source": [
    "import turtle\n",
    "import math\n",
    "t = turtle.Turtle()\n",
    "t.speed(0)\n",
    "t.penup()\n",
    "t.goto(0,0)\n",
    "t.pencolor(\"black\")\n",
    "t.pensize(3)\n",
    "t.pendown()\n",
    "t.showturtle()\n",
    "start_position = (0,0)\n",
    "distance_threshold = 200\n",
    "d = 1\n",
    "while True:\n",
    "    t.forward(d)\n",
    "    t.left(30)\n",
    "    current_position = t.pos()\n",
    "    distance = math.sqrt((current_position[0] - start_position[0])**2 + (current_position[1] - start_position[1])**2)\n",
    "    if distance > distance_threshold:\n",
    "        break\n",
    "    d += 1\n",
    "t.done()"
   ]
  }
 ],
 "metadata": {
  "kernelspec": {
   "display_name": "Python 3 (ipykernel)",
   "language": "python",
   "name": "python3"
  },
  "language_info": {
   "codemirror_mode": {
    "name": "ipython",
    "version": 3
   },
   "file_extension": ".py",
   "mimetype": "text/x-python",
   "name": "python",
   "nbconvert_exporter": "python",
   "pygments_lexer": "ipython3",
   "version": "3.11.5"
  }
 },
 "nbformat": 4,
 "nbformat_minor": 5
}
