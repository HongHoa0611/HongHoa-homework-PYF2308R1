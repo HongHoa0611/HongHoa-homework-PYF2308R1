{
 "cells": [
  {
   "cell_type": "code",
   "execution_count": null,
   "id": "ac81bb92-ea91-460c-8811-82ef359c34f6",
   "metadata": {},
   "outputs": [],
   "source": [
    "'''\n",
    "Nhập tiền lương mỗi tháng (đơn vị triệu) và số người phụ thuộc.\n",
    "Yều cầu tính số thuế thu nhập cá nhân cần nộp và số tiền thực lãnh.\n",
    "(tiền lương = thuế TNCN + thực lãnh)\n",
    "================\n",
    "Tiền thu nhập nhập chịu thuế (P) = tiền lương - giảm trừ gia cảnh\n",
    "\n",
    "giảm trừ gia cảnh = giảm trừ bản thân 11tr + người phụ thuộc * 4.4tr.\n",
    "\n",
    "Mức thuế suất tính trên thu nhập chịu thuế:\n",
    " 0 < P <= 5: thuế 5%\n",
    "5 < P <= 10: thuế 10%\n",
    "10 < P <= 18: thuế 15%\n",
    "18 < P <= 32: thuế 20%\n",
    "32 < P <= 52: thuế 25%\n",
    "52 < P < 80: thuế 30%\n",
    "P >= 80: thuế 35%\n",
    "VD: Thu nhập 2000$ = 46tr\n",
    "Giảm trừ bản thân 11tr, 2 con ==> giảm 2 * 4.4 = 8.8tr ==> giảm giừ gia cảnh: 11 + 8.8 = 19,8 tr\n",
    "\n",
    "==> thu nhập chịu thuế: 46 - 19.8 = 26.2 tr\n",
    "\n",
    "Tra bảng (bằng if ... elif ) ==> thuế cần đóng: 20% * 26.2tr = 5,24tr\n",
    "\n",
    "==> còn lảnh: 46 - 5.24tr = 40.76tr\n",
    "'''"
   ]
  },
  {
   "cell_type": "code",
   "execution_count": 7,
   "id": "26a44433-132e-4098-a6c4-5eddedc44fc4",
   "metadata": {},
   "outputs": [
    {
     "name": "stdin",
     "output_type": "stream",
     "text": [
      "nhập vào tiền lương tháng (triệu VNĐ):  45\n"
     ]
    },
    {
     "name": "stdout",
     "output_type": "stream",
     "text": [
      "tiền lương ban đầu: 45 triệu VNĐ\n"
     ]
    },
    {
     "name": "stdin",
     "output_type": "stream",
     "text": [
      "nhập vào số người phụ thuộc:  2\n"
     ]
    },
    {
     "name": "stdout",
     "output_type": "stream",
     "text": [
      "Tiền thu nhập chịu thuế: 25.2 triệu VNĐ\n",
      "Tiền lương thực lãnh: 39.96 triệu VNĐ\n"
     ]
    }
   ],
   "source": [
    "luong = int(input(\"nhập vào tiền lương tháng (triệu VNĐ): \"))\n",
    "print(f\"tiền lương ban đầu: {luong} triệu VNĐ\")\n",
    "\n",
    "nguoi_phu_thuoc = int(input(\"nhập vào số người phụ thuộc: \"))\n",
    "giam_tru_gia_canh = 11 + nguoi_phu_thuoc * 4.4\n",
    "\n",
    "#Tiền thu nhập chịu thuế (P)\n",
    "P = luong - giam_tru_gia_canh\n",
    "print(f\"Tiền thu nhập chịu thuế: {P} triệu VNĐ\")\n",
    "\n",
    "#Mức thuế suất tính trên thu nhập chịu thuế\n",
    "thue = 0\n",
    "if 0 < P <= 5:\n",
    "    thue = (P * 5)/100\n",
    "elif 5 < P <= 10:\n",
    "    thue = (P * 10)/100\n",
    "elif 10 < P <= 18:\n",
    "    thue = (P * 15)/100\n",
    "elif 18 < P <= 32:\n",
    "    thue = (P * 20)/100\n",
    "elif 32 < P <= 52:\n",
    "    thue = (P * 25)/100\n",
    "elif 52 < P < 80:\n",
    "    thue = (P * 30)/100\n",
    "else:\n",
    "    thue = (P * 35)/100\n",
    "luong_thuc_lanh = luong - thue\n",
    "print(f\"Tiền lương thực lãnh: {luong_thuc_lanh} triệu VNĐ\")"
   ]
  }
 ],
 "metadata": {
  "kernelspec": {
   "display_name": "Python 3 (ipykernel)",
   "language": "python",
   "name": "python3"
  },
  "language_info": {
   "codemirror_mode": {
    "name": "ipython",
    "version": 3
   },
   "file_extension": ".py",
   "mimetype": "text/x-python",
   "name": "python",
   "nbconvert_exporter": "python",
   "pygments_lexer": "ipython3",
   "version": "3.11.5"
  }
 },
 "nbformat": 4,
 "nbformat_minor": 5
}
