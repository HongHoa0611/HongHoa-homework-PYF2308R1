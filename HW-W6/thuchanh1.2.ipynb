{
 "cells": [
  {
   "cell_type": "code",
   "execution_count": 1,
   "id": "50a8f4d8-e21e-430c-a5f9-5def82517939",
   "metadata": {},
   "outputs": [
    {
     "name": "stdin",
     "output_type": "stream",
     "text": [
      "Nhập dãy chữ số:  523\n"
     ]
    },
    {
     "name": "stdout",
     "output_type": "stream",
     "text": [
      "năm hai ba "
     ]
    }
   ],
   "source": [
    "numbers = input(\"Nhập dãy chữ số: \")\n",
    "text = (\"không\", \"một\", \"hai\", \"ba\", \"bốn\", \"năm\", \"sáu\", \"bảy\", \"tám\", \"chín\")\n",
    "for num in numbers:\n",
    "    print(text[int(num)], end=' ')"
   ]
  },
  {
   "cell_type": "code",
   "execution_count": null,
   "id": "37d0ce36-9a36-48a6-8780-d54e35e78bf1",
   "metadata": {},
   "outputs": [],
   "source": []
  }
 ],
 "metadata": {
  "kernelspec": {
   "display_name": "Python 3 (ipykernel)",
   "language": "python",
   "name": "python3"
  },
  "language_info": {
   "codemirror_mode": {
    "name": "ipython",
    "version": 3
   },
   "file_extension": ".py",
   "mimetype": "text/x-python",
   "name": "python",
   "nbconvert_exporter": "python",
   "pygments_lexer": "ipython3",
   "version": "3.11.5"
  }
 },
 "nbformat": 4,
 "nbformat_minor": 5
}
