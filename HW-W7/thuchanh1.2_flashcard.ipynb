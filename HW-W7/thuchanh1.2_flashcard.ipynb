{
 "cells": [
  {
   "cell_type": "code",
   "execution_count": null,
   "id": "eb7e8391-d0bb-44fb-9e71-80d990c19b14",
   "metadata": {},
   "outputs": [
    {
     "name": "stdout",
     "output_type": "stream",
     "text": [
      "Tiếng Anh của 'Con thỏ' là: \n"
     ]
    },
    {
     "name": "stdin",
     "output_type": "stream",
     "text": [
      " rabit\n"
     ]
    },
    {
     "name": "stdout",
     "output_type": "stream",
     "text": [
      "Sai\n"
     ]
    },
    {
     "name": "stdin",
     "output_type": "stream",
     "text": [
      "Nhập 0 để tiếp tục :  0\n"
     ]
    },
    {
     "name": "stdout",
     "output_type": "stream",
     "text": [
      "Tiếng Anh của 'Con ong' là: \n"
     ]
    },
    {
     "name": "stdin",
     "output_type": "stream",
     "text": [
      " bee\n"
     ]
    },
    {
     "name": "stdout",
     "output_type": "stream",
     "text": [
      "Đúng\n"
     ]
    }
   ],
   "source": [
    "import random\n",
    "class flashcard:\n",
    "    def __init__(self):\n",
    "\n",
    "        self.animals = {'Con ong': 'bee',\n",
    "                        'Con thỏ': 'rabbit',\n",
    "                        'Con cua': 'crab',\n",
    "                        'Con mèo': 'cat',\n",
    "                        'Con ngựa': 'horse',\n",
    "                        'Con khỉ': 'monkey',\n",
    "                        'Con lừa': 'donkey'}\n",
    "    def quiz(self):\n",
    "        while True:\n",
    "\n",
    "            vietnamese, english = random.choice(list(self.animals.items()))\n",
    "    \n",
    "            print(\"Tiếng Anh của '{}' là: \".format(vietnamese))\n",
    "            user_answer = input()\n",
    "    \n",
    "            if user_answer.lower() == english:\n",
    "                print(\"Đúng\")\n",
    "            else:\n",
    "                print(\"Sai\")\n",
    "    \n",
    "            option = int(input(\"Nhập 0 để tiếp tục : \"))\n",
    "            if option:\n",
    "                break\n",
    "        print(\"Kết thúc\")\n",
    "\n",
    "fc = flashcard()\n",
    "fc.quiz()"
   ]
  },
  {
   "cell_type": "code",
   "execution_count": null,
   "id": "f60150b3-4f54-414e-a834-3e5481054cda",
   "metadata": {},
   "outputs": [],
   "source": []
  }
 ],
 "metadata": {
  "kernelspec": {
   "display_name": "Python 3 (ipykernel)",
   "language": "python",
   "name": "python3"
  },
  "language_info": {
   "codemirror_mode": {
    "name": "ipython",
    "version": 3
   },
   "file_extension": ".py",
   "mimetype": "text/x-python",
   "name": "python",
   "nbconvert_exporter": "python",
   "pygments_lexer": "ipython3",
   "version": "3.11.5"
  }
 },
 "nbformat": 4,
 "nbformat_minor": 5
}
